{
 "cells": [
  {
   "metadata": {},
   "cell_type": "markdown",
   "source": [
    "# School notebook\n",
    "\n",
    "## Import de User et Signup\n",
    "\n",
    "* il faut installer cela dans un terminal dans le dossier du projet school avant d'éxécuter le notebook: ```pip install -U email-validator```"
   ],
   "id": "d80f8f4c496b8502"
  },
  {
   "cell_type": "code",
   "id": "initial_id",
   "metadata": {
    "collapsed": true,
    "ExecuteTime": {
     "end_time": "2024-10-16T21:20:11.757502Z",
     "start_time": "2024-10-16T21:20:11.755570Z"
    }
   },
   "source": [
    "from users.user import User\n",
    "from users.signup import Signup\n"
   ],
   "outputs": [],
   "execution_count": 7
  },
  {
   "metadata": {},
   "cell_type": "markdown",
   "source": "## Generons des users",
   "id": "e096dacdce185e62"
  },
  {
   "metadata": {
    "ExecuteTime": {
     "end_time": "2024-10-16T21:20:11.766797Z",
     "start_time": "2024-10-16T21:20:11.764891Z"
    }
   },
   "cell_type": "code",
   "source": "",
   "id": "5c4584174cb83ecf",
   "outputs": [],
   "execution_count": null
  }
 ],
 "metadata": {
  "kernelspec": {
   "display_name": "Python 3",
   "language": "python",
   "name": "python3"
  },
  "language_info": {
   "codemirror_mode": {
    "name": "ipython",
    "version": 2
   },
   "file_extension": ".py",
   "mimetype": "text/x-python",
   "name": "python",
   "nbconvert_exporter": "python",
   "pygments_lexer": "ipython2",
   "version": "2.7.6"
  }
 },
 "nbformat": 4,
 "nbformat_minor": 5
}
