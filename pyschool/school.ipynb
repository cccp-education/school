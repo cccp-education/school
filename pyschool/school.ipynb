{
 "cells": [
  {
   "metadata": {},
   "cell_type": "markdown",
   "source": [
    "# School notebook\n",
    "\n",
    "## Import de User et Signup\n",
    "\n",
    "* il faut installer cela dans un terminal dans le dossier du projet school avant d'éxécuter le notebook: ```pip install -U email-validator```"
   ],
   "id": "d80f8f4c496b8502"
  },
  {
   "cell_type": "code",
   "id": "initial_id",
   "metadata": {
    "collapsed": true,
    "ExecuteTime": {
     "end_time": "2024-10-16T22:07:39.654858Z",
     "start_time": "2024-10-16T22:07:39.651583Z"
    }
   },
   "source": [
    "from users.user import User\n",
    "from users.signup import Signup\n",
    "from pyrsistent import m\n"
   ],
   "outputs": [],
   "execution_count": 5
  },
  {
   "metadata": {},
   "cell_type": "markdown",
   "source": [
    "### Explorons User et Signup\n",
    "\n",
    "#### XML, JSON, YAML"
   ],
   "id": "e096dacdce185e62"
  },
  {
   "metadata": {
    "ExecuteTime": {
     "end_time": "2024-10-16T22:07:39.708358Z",
     "start_time": "2024-10-16T22:07:39.699756Z"
    }
   },
   "cell_type": "code",
   "source": [
    "    # Création d'un objet avec des données Pyrsistent\n",
    "signup_data = m(\n",
    "    login=\"johndoe\",\n",
    "    password=\"secret\",\n",
    "    repassword=\"secret\",\n",
    "    email=\"johndoe@example.com\"\n",
    ")\n",
    "\n",
    "# Création d'une instance de Signup à partir des données Pyrsistent\n",
    "signup = Signup.from_persistent(signup_data)\n",
    "\n",
    "# Création d'une nouvelle instance avec un email modifié\n",
    "# Utilisation de copy qui a été vérifié comme fonctionnel\n",
    "new_signup = signup.copy(update={\"email\": \"janedoe@example.com\"})\n",
    "\n",
    "print(\"Original signup:\", signup)\n",
    "print(\"New signup:\", new_signup)\n",
    "\n",
    "# Démonstration de la conversion retour vers Pyrsistent\n",
    "persistent_data = new_signup.to_persistent()\n",
    "print(\"Données Pyrsistent:\", persistent_data)\n",
    "\n",
    "print(f\"to_json : {new_signup.to_json()}\")\n",
    "\n",
    "print(f\"to_xml : {new_signup.to_xml()}\")\n",
    "\n",
    "print(f\"to_schema json : {new_signup.to_schema()}\")\n",
    "\n",
    "print(f\"to_schema yaml : {new_signup.to_schema(\"yaml\")}\")\n",
    "\n",
    "print(f\"to_dtd : {new_signup.to_dtd()}\")\n",
    "\n",
    "print(f\"to_xsd : {new_signup.to_xsd()}\")"
   ],
   "id": "5c4584174cb83ecf",
   "outputs": [
    {
     "name": "stdout",
     "output_type": "stream",
     "text": [
      "Original signup: login='johndoe' password='secret' repassword='secret' email='johndoe@example.com'\n",
      "New signup: login='johndoe' password='secret' repassword='secret' email='janedoe@example.com'\n",
      "Données Pyrsistent: pmap({'login': 'johndoe', 'email': 'janedoe@example.com', 'password': 'secret', 'repassword': 'secret'})\n",
      "to_json : {\"login\": \"johndoe\", \"password\": \"secret\", \"repassword\": \"secret\", \"email\": \"janedoe@example.com\"}\n",
      "to_xml : <signup><login>johndoe</login><password>secret</password><repassword>secret</repassword><email>janedoe@example.com</email></signup>\n",
      "to_schema json : {'type': 'object', 'properties': {'login': {'type': 'str'}, 'password': {'type': 'str'}, 'repassword': {'type': 'str'}, 'email': {'type': 'str'}}}\n",
      "to_schema yaml : properties:\n",
      "  email:\n",
      "    type: str\n",
      "  login:\n",
      "    type: str\n",
      "  password:\n",
      "    type: str\n",
      "  repassword:\n",
      "    type: str\n",
      "type: object\n",
      "\n",
      "to_dtd : <!ELEMENT signup (<!ELEMENT login (#PCDATA)> , <!ELEMENT password (#PCDATA)> , <!ELEMENT repassword (#PCDATA)> , <!ELEMENT email (#PCDATA)>)>\n",
      "to_xsd : <?xml version=\"1.0\" encoding=\"UTF-8\"?>\n",
      "    <xs:schema xmlns:xs=\"http://www.w3.org/2001/XMLSchema\">\n",
      "        <xs:element name=\"signup\">\n",
      "            <xs:complexType>\n",
      "                <xs:sequence>\n",
      "                    \n",
      "                <xs:element name=\"login\" type=\"xs:string\">\n",
      "                    <xs:annotation>\n",
      "                        <xs:documentation>Field: login</xs:documentation>\n",
      "                    </xs:annotation>\n",
      "                </xs:element>\n",
      "                <xs:element name=\"password\" type=\"xs:string\">\n",
      "                    <xs:annotation>\n",
      "                        <xs:documentation>Field: password</xs:documentation>\n",
      "                    </xs:annotation>\n",
      "                </xs:element>\n",
      "                <xs:element name=\"repassword\" type=\"xs:string\">\n",
      "                    <xs:annotation>\n",
      "                        <xs:documentation>Field: repassword</xs:documentation>\n",
      "                    </xs:annotation>\n",
      "                </xs:element>\n",
      "                <xs:element name=\"email\" type=\"xs:string\">\n",
      "                    <xs:annotation>\n",
      "                        <xs:documentation>Field: email</xs:documentation>\n",
      "                    </xs:annotation>\n",
      "                </xs:element>\n",
      "                </xs:sequence>\n",
      "            </xs:complexType>\n",
      "        </xs:element>\n",
      "    </xs:schema>\n"
     ]
    }
   ],
   "execution_count": 6
  },
  {
   "metadata": {},
   "cell_type": "markdown",
   "source": "## Générons des users\n",
   "id": "b30c01bf323eb272"
  }
 ],
 "metadata": {
  "kernelspec": {
   "display_name": "Python 3",
   "language": "python",
   "name": "python3"
  },
  "language_info": {
   "codemirror_mode": {
    "name": "ipython",
    "version": 2
   },
   "file_extension": ".py",
   "mimetype": "text/x-python",
   "name": "python",
   "nbconvert_exporter": "python",
   "pygments_lexer": "ipython2",
   "version": "2.7.6"
  }
 },
 "nbformat": 4,
 "nbformat_minor": 5
}
