{
 "cells": [
  {
   "metadata": {},
   "cell_type": "markdown",
   "source": [
    "# School notebook\n",
    "\n",
    "## Import de User et Signup\n",
    "\n",
    "* il faut installer cela dans un terminal dans le dossier du projet school avant d'éxécuter le notebook: ```pip install -U email-validator```"
   ],
   "id": "d80f8f4c496b8502"
  },
  {
   "cell_type": "code",
   "id": "initial_id",
   "metadata": {
    "collapsed": true
   },
   "source": [
    "from users.user import User\n",
    "from users.signup import Signup\n",
    "from pyrsistent import m\n"
   ],
   "outputs": [],
   "execution_count": null
  },
  {
   "metadata": {},
   "cell_type": "markdown",
   "source": [
    "### Explorons User et Signup\n",
    "\n",
    "#### XML, JSON, YAML"
   ],
   "id": "e096dacdce185e62"
  },
  {
   "metadata": {},
   "cell_type": "code",
   "source": [
    "# Création d'un objet avec des données Pyrsistent\n",
    "signup_data = m(\n",
    "    login=\"johndoe\",\n",
    "    password=\"secret\",\n",
    "    repassword=\"secret\",\n",
    "    email=\"johndoe@example.com\"\n",
    ")\n",
    "\n",
    "# Création d'une instance de Signup à partir des données Pyrsistent\n",
    "signup = Signup.from_persistent(signup_data)\n",
    "\n",
    "# Création d'une nouvelle instance avec un email modifié\n",
    "# Utilisation de copy qui a été vérifié comme fonctionnel\n",
    "new_signup = signup.copy(update={\"email\": \"janedoe@example.com\"})\n",
    "\n",
    "persistent_data = new_signup.to_persistent()\n",
    "\n",
    "\n",
    "def display_school(signup: Signup, new_signup: Signup, persistent_data):\n",
    "    print(\"Original signup:\", signup)\n",
    "    print(\"New signup:\", new_signup)\n",
    "    # Démonstration de la conversion retour vers Pyrsistent\n",
    "    print(\"Données Pyrsistent:\", persistent_data)\n",
    "    print(f\"to_json : {new_signup.to_json()}\")\n",
    "    print(f\"to_xml : {new_signup.to_xml()}\")\n",
    "    print(f\"to_schema json : {new_signup.to_schema()}\")\n",
    "    print(f\"to_schema yaml : {new_signup.to_schema(\"yaml\")}\")\n",
    "    print(f\"to_dtd : {new_signup.to_dtd()}\")\n",
    "    print(f\"to_xsd : {new_signup.to_xsd()}\")"
   ],
   "id": "5c4584174cb83ecf",
   "outputs": [],
   "execution_count": null
  },
  {
   "metadata": {},
   "cell_type": "markdown",
   "source": "## Générons des users\n",
   "id": "b30c01bf323eb272"
  },
  {
   "metadata": {},
   "cell_type": "code",
   "source": "display_school(signup, new_signup, persistent_data)",
   "id": "cb2eac54d0494e00",
   "outputs": [],
   "execution_count": null
  }
 ],
 "metadata": {
  "kernelspec": {
   "display_name": "Python 3",
   "language": "python",
   "name": "python3"
  },
  "language_info": {
   "codemirror_mode": {
    "name": "ipython",
    "version": 2
   },
   "file_extension": ".py",
   "mimetype": "text/x-python",
   "name": "python",
   "nbconvert_exporter": "python",
   "pygments_lexer": "ipython2",
   "version": "2.7.6"
  }
 },
 "nbformat": 4,
 "nbformat_minor": 5
}
