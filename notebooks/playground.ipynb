{
 "cells": [
  {
   "metadata": {},
   "cell_type": "markdown",
   "source": "# Playground kotlin notebook"
  },
  {
   "metadata": {
    "ExecuteTime": {
     "end_time": "2024-10-16T20:50:17.334923486Z",
     "start_time": "2024-10-16T20:50:17.291088681Z"
    }
   },
   "cell_type": "code",
   "source": [
    "@file:Repository(\"https://dl.google.com/dl/android/maven2/\")\n",
    "@file:Repository(\"https://repo.maven.apache.org/maven2/\")\n",
    "@file:Repository(\"https://mvnrepository.com/repos/springio-plugins-release\")\n",
    "@file:Repository(\"https://archiva-repository.apache.org/archiva/repository/public/\")\n",
    "@file:Repository(\"https://maven.xillio.com/artifactory/libs-release/\")\n",
    "@file:Repository(\"https://maven.repository.redhat.com/ga/\")\n",
    "@file:Repository(\"https://repo.spring.io/milestone\")\n",
    "@file:Repository(\"https://repo.spring.io/snapshot\")\n",
    "@file:Repository(\"https://maven.pkg.jetbrains.space/kotlin/p/kotlin/bootstrap/\")\n",
    "@file:DependsOn(\"ch.qos.logback:logback-classic:1.5.11\")\n",
    "@file:DependsOn(\"../api/build/libs/api-0.0.1.jar\")"
   ],
   "outputs": [],
   "execution_count": 23
  },
  {
   "cell_type": "code",
   "metadata": {
    "collapsed": true,
    "ExecuteTime": {
     "end_time": "2024-10-16T20:50:17.394040589Z",
     "start_time": "2024-10-16T20:50:17.339260138Z"
    }
   },
   "source": [
    "val userName = System.getProperty(\"user.name\")\n",
    "val assistantName = \"E-3PO\"\n",
    "val userMessage = \"\"\"config```--lang=fr;```. \n",
    "                            | Salut je suis $userName, \n",
    "                            | toi tu es $assistantName, tu es mon assistant.\n",
    "                            | Le coeur de métier de ${System.getProperty(\"user.name\")} est le développement logiciel dans l'EdTech \n",
    "                            | et la formation professionnelle pour adulte. \n",
    "                            | La spécialisation de ${System.getProperty(\"user.name\")} est dans l'ingenieurie de pédagogie pour adulte,\n",
    "                            | et le software craftmanship avec les méthodes agiles.\n",
    "                            | $assistantName ta mission est d'aider ${System.getProperty(\"user.name\")} dans l'activité d'écriture de formation et génération de code.\n",
    "                            | Réponds moi à ce premier échange uniquement en maximum 200 mots\"\"\"\n",
    "    .trimMargin()\n",
    "//    .apply(::println)\n",
    "\n",
    "var home = System.getProperty(\"user.name\")"
   ],
   "outputs": [],
   "execution_count": 24
  },
  {
   "metadata": {},
   "cell_type": "markdown",
   "source": "## Import libs"
  },
  {
   "metadata": {
    "ExecuteTime": {
     "end_time": "2024-10-16T20:50:17.532261115Z",
     "start_time": "2024-10-16T20:50:17.400538791Z"
    }
   },
   "cell_type": "code",
   "source": [
    "@org.springframework.boot.autoconfigure.SpringBootApplication\n",
    "class NotebookApplication {\n",
    "    @org.springframework.context.annotation.Bean\n",
    "    fun notebookService() {\n",
    "\n",
    "    }\n",
    "}\n",
    "\n",
    "//val context = runApplication<NotebookApplication>()\n",
    "val context: org.springframework.context.ApplicationContext = org.springframework.context.support.GenericApplicationContext()\n",
    "\n",
    "context.apply {\n",
    "    beanDefinitionNames\n",
    "        .apply { \"beans size : $size\".run(::println) }\n",
    "        .apply { forEach(::println) }\n",
    "}\n"
   ],
   "outputs": [
    {
     "name": "stdout",
     "output_type": "stream",
     "text": [
      "beans size : 0\n"
     ]
    },
    {
     "data": {
      "text/plain": [
       "org.springframework.context.support.GenericApplicationContext@1cfd113e, started on Thu Jan 01 01:00:00 CET 1970"
      ]
     },
     "execution_count": 25,
     "metadata": {},
     "output_type": "execute_result"
    }
   ],
   "execution_count": 25
  }
 ],
 "metadata": {
  "kernelspec": {
   "display_name": "Kotlin",
   "language": "kotlin",
   "name": "kotlin"
  },
  "language_info": {
   "name": "kotlin",
   "version": "1.9.23",
   "mimetype": "text/x-kotlin",
   "file_extension": ".kt",
   "pygments_lexer": "kotlin",
   "codemirror_mode": "text/x-kotlin",
   "nbconvert_exporter": ""
  }
 },
 "nbformat": 4,
 "nbformat_minor": 0
}
